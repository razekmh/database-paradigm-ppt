{
 "cells": [
  {
   "cell_type": "code",
   "execution_count": 12,
   "id": "0c6ccf5c-d14c-4c37-9a17-0a5108cdb760",
   "metadata": {},
   "outputs": [],
   "source": [
    "import csv, random"
   ]
  },
  {
   "cell_type": "code",
   "execution_count": 38,
   "id": "e73833ff-2998-4fab-b8be-d7ffef3bad7e",
   "metadata": {},
   "outputs": [],
   "source": [
    "with open('example_csv', 'w') as f:\n",
    "    writer = csv.writer(f)\n",
    "    row = ['first_name','last_name']\n",
    "    writer.writerow(row)\n",
    "    for i in range(5000000):\n",
    "        row = [random.choice(first_name_list), random.choice(last_name_list)]\n",
    "        writer.writerow(row)"
   ]
  },
  {
   "cell_type": "code",
   "execution_count": 34,
   "id": "6120179c-3a83-4fd7-ab78-c8381e5a85a9",
   "metadata": {},
   "outputs": [
    {
     "data": {
      "text/plain": [
       "'Kristian'"
      ]
     },
     "execution_count": 34,
     "metadata": {},
     "output_type": "execute_result"
    }
   ],
   "source": [
    "with open('data/last_name.csv', newline='') as f:\n",
    "    reader = csv.reader(f)\n",
    "    last_name_list = [row[0] for row in reader]\n",
    "# print(last_name_list)\n",
    "with open('data/first_name.csv', newline='') as f:\n",
    "    reader = csv.reader(f)\n",
    "    first_name_list = [row[0] for row in reader]\n",
    "# print(first_name_list)\n"
   ]
  },
  {
   "cell_type": "code",
   "execution_count": null,
   "id": "36157ae4-c39e-415e-9410-8f0d19961738",
   "metadata": {},
   "outputs": [],
   "source": []
  }
 ],
 "metadata": {
  "kernelspec": {
   "display_name": "Python 3 (ipykernel)",
   "language": "python",
   "name": "python3"
  },
  "language_info": {
   "codemirror_mode": {
    "name": "ipython",
    "version": 3
   },
   "file_extension": ".py",
   "mimetype": "text/x-python",
   "name": "python",
   "nbconvert_exporter": "python",
   "pygments_lexer": "ipython3",
   "version": "3.8.10"
  }
 },
 "nbformat": 4,
 "nbformat_minor": 5
}
